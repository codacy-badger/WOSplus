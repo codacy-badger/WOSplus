{
  "nbformat": 4,
  "nbformat_minor": 0,
  "metadata": {
    "colab": {
      "name": "test_sample.ipynb",
      "version": "0.3.2",
      "provenance": [],
      "include_colab_link": true
    },
    "kernelspec": {
      "display_name": "Python 3",
      "language": "python",
      "name": "python3"
    }
  },
  "cells": [
    {
      "cell_type": "markdown",
      "metadata": {
        "id": "view-in-github",
        "colab_type": "text"
      },
      "source": [
        "[View in Colaboratory](https://colab.research.google.com/github/restrepo/WOSplus/blob/master/test_sample.ipynb)"
      ]
    },
    {
      "metadata": {
        "id": "8h8QFxvObxdb",
        "colab_type": "code",
        "colab": {
          "base_uri": "https://localhost:8080/",
          "height": 35
        },
        "outputId": "0ae8d8ba-2ccc-45e1-fdc2-e4744a8397a8"
      },
      "cell_type": "code",
      "source": [
        "%%bash\n",
        "# Check if colaboratory was launched and install missing requirements\n",
        "if [ \"$(pwd)\" == /content ];then\n",
        "    pip install openpyxl xlrd unidecode python-levenshtein requests_testadapter > /dev/null\n",
        "    git clone https://github.com/restrepo/WOSplus.git > /dev/null\n",
        "    mv WOSplus/wosplus/* .\n",
        "fi"
      ],
      "execution_count": 4,
      "outputs": [
        {
          "output_type": "stream",
          "text": [
            "Cloning into 'WOSplus'...\n"
          ],
          "name": "stderr"
        }
      ]
    },
    {
      "metadata": {
        "id": "uwbkDKBbbwvQ",
        "colab_type": "code",
        "colab": {}
      },
      "cell_type": "code",
      "source": [
        "import wosplus"
      ],
      "execution_count": 0,
      "outputs": []
    },
    {
      "metadata": {
        "id": "s2kdcEq8R2Aq",
        "colab_type": "code",
        "colab": {
          "base_uri": "https://localhost:8080/",
          "height": 35
        },
        "outputId": "fbb02d75-2141-493c-cb7a-9bdc2aa15763"
      },
      "cell_type": "code",
      "source": [
        "%%writefile drive.cfg\n",
        "[FILES]\n",
        "Sample_WOS.xlsx = 1--LJZ4mYyQcaJ93xBdbnYj-ZzdjO2Wq2\n",
        "Sample_SCI.xlsx = 1-3a-hguQTk5ko8JRLCx--EKaslxGVscf\n",
        "Sample_SCP.xlsx = 1-IAWlMdp2U-9L2jvZUio04ub1Ym3PX-H"
      ],
      "execution_count": 6,
      "outputs": [
        {
          "output_type": "stream",
          "text": [
            "Overwriting drive.cfg\n"
          ],
          "name": "stdout"
        }
      ]
    },
    {
      "metadata": {
        "id": "BUzIDf92bwvU",
        "colab_type": "code",
        "colab": {
          "base_uri": "https://localhost:8080/",
          "height": 146
        },
        "outputId": "033d321d-6538-4c90-dfa1-ce44319718b4"
      },
      "cell_type": "code",
      "source": [
        "cib=wosplus.wosplus('drive.cfg')\n",
        "\n",
        "cib.load_biblio('Sample_WOS.xlsx')\n",
        "cib.load_biblio('Sample_SCI.xlsx',prefix='SCI')\n",
        "cib.load_biblio('Sample_SCP.xlsx',prefix='SCP')\n",
        "\n",
        "print('before merge: {}'.format( cib.WOS.shape[0]+cib.SCI.shape[0]+cib.SCP.shape[0] )  )\n",
        "\n",
        "cib.merge(left='WOS',right='SCI')\n",
        "\n",
        "if True:\n",
        "    print('intial: {}'.format( cib.WOS.shape[0]+cib.SCI.shape[0]) )\n",
        "    print('final : {}'.format(  cib.WOS_SCI.shape) )\n",
        "\n",
        "cib.merge(left='WOS_SCI',right='SCP')\n",
        "\n",
        "if True:\n",
        "    print('intial: {}'.format( cib.WOS_SCI.shape[0]+cib.SCP.shape[0]) )\n",
        "    print('final : {}'.format(  cib.WOS_SCI_SCP.shape) )"
      ],
      "execution_count": 7,
      "outputs": [
        {
          "output_type": "stream",
          "text": [
            "/content/_wos_scp.py:54: FutureWarning: Using 'rename_axis' to alter labels is deprecated. Use '.rename' instead\n",
            "  return df.rename_axis( dict( (key,prefix+'_'+key) for key in df.columns.values) , axis=1)\n"
          ],
          "name": "stderr"
        },
        {
          "output_type": "stream",
          "text": [
            "before merge: 48\n",
            ".intial: 38\n",
            "final : (28, 96)\n",
            "..intial: 38\n",
            "final : (30, 142)\n"
          ],
          "name": "stdout"
        }
      ]
    },
    {
      "metadata": {
        "id": "WWNF7iZkPbr9",
        "colab_type": "text"
      },
      "cell_type": "markdown",
      "source": [
        "### In progress... Other database"
      ]
    },
    {
      "metadata": {
        "id": "mwVr3x5cbwvY",
        "colab_type": "code",
        "colab": {
          "base_uri": "https://localhost:8080/",
          "height": 54
        },
        "outputId": "48e53683-c1f2-4f69-ec2d-3d16e6ed99bc"
      },
      "cell_type": "code",
      "source": [
        "cib.load_biblio('Sample_SCP.xlsx',prefix='NEW')"
      ],
      "execution_count": 8,
      "outputs": [
        {
          "output_type": "stream",
          "text": [
            "/content/_wos_scp.py:54: FutureWarning: Using 'rename_axis' to alter labels is deprecated. Use '.rename' instead\n",
            "  return df.rename_axis( dict( (key,prefix+'_'+key) for key in df.columns.values) , axis=1)\n"
          ],
          "name": "stderr"
        }
      ]
    },
    {
      "metadata": {
        "id": "-PpQ4BfdPh_b",
        "colab_type": "code",
        "colab": {}
      },
      "cell_type": "code",
      "source": [
        "cib.merge(left='WOS_SCI_SCP',right='NEW',right_DOI='NEW_DOI',\n",
        "            right_TI='NEW_Title',\n",
        "            right_extra_journal='NEW_Source title',\n",
        "            right_author='NEW_Authors',\n",
        "            right_year='NEW_Year')"
      ],
      "execution_count": 0,
      "outputs": []
    },
    {
      "metadata": {
        "id": "6WWU3mIXPoaL",
        "colab_type": "code",
        "colab": {
          "base_uri": "https://localhost:8080/",
          "height": 35
        },
        "outputId": "453c382f-c5df-4a89-e423-a10408e3e57b"
      },
      "cell_type": "code",
      "source": [
        "cib.WOS_SCI_SCP_NEW.shape"
      ],
      "execution_count": 10,
      "outputs": [
        {
          "output_type": "execute_result",
          "data": {
            "text/plain": [
              "(30, 185)"
            ]
          },
          "metadata": {
            "tags": []
          },
          "execution_count": 10
        }
      ]
    },
    {
      "metadata": {
        "id": "-A4mxUZPPrh-",
        "colab_type": "code",
        "colab": {}
      },
      "cell_type": "code",
      "source": [
        ""
      ],
      "execution_count": 0,
      "outputs": []
    }
  ]
}