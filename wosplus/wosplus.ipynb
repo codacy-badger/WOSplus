{
 "cells": [
  {
   "cell_type": "markdown",
   "metadata": {},
   "source": [
    "# WOSPlus\n",
    "Manage Web of Science txt files and merge with other bibliographic datasets."
   ]
  },
  {
   "cell_type": "code",
   "execution_count": 1,
   "metadata": {},
   "outputs": [],
   "source": [
    "import wosplus as wp"
   ]
  },
  {
   "cell_type": "markdown",
   "metadata": {},
   "source": [
    "## Sample files"
   ]
  },
  {
   "cell_type": "markdown",
   "metadata": {},
   "source": [
    "WOSPlus comes with the identification, `id`, of public Google Drive Excel files:"
   ]
  },
  {
   "cell_type": "code",
   "execution_count": 11,
   "metadata": {},
   "outputs": [
    {
     "data": {
      "text/plain": [
       "'0BxoOXsn2EUNIMldPUFlwNkdLOTQ'"
      ]
     },
     "execution_count": 11,
     "metadata": {},
     "output_type": "execute_result"
    }
   ],
   "source": [
    "ID=wp.cfg['FILES'].get('Sample_WOS.xlsx')\n",
    "ID"
   ]
  },
  {
   "cell_type": "markdown",
   "metadata": {},
   "source": [
    "The Excel file has the link: [https://docs.google.com/uc?export=download&id=`ID`](https://docs.google.com/uc?export=download&id=0BxoOXsn2EUNIMldPUFlwNkdLOTQ)"
   ]
  },
  {
   "cell_type": "markdown",
   "metadata": {},
   "source": [
    "We can define your own labeled IDs, either through the default 'drive.cfg' file before the import of the module,\n",
    "or by using your own configuration file after the import:"
   ]
  },
  {
   "cell_type": "code",
   "execution_count": 6,
   "metadata": {},
   "outputs": [
    {
     "name": "stdout",
     "output_type": "stream",
     "text": [
      "Overwriting drivef.cfg\n"
     ]
    }
   ],
   "source": [
    "%%writefile drivef.cfg\n",
    "[FILES]\n",
    "WOS.xlsx                             = 0BxoOXsn2EUNIMldPUFlwNkdLOTQ"
   ]
  },
  {
   "cell_type": "code",
   "execution_count": 10,
   "metadata": {},
   "outputs": [
    {
     "data": {
      "text/plain": [
       "'0BxoOXsn2EUNIMldPUFlwNkdLOTQ'"
      ]
     },
     "execution_count": 10,
     "metadata": {},
     "output_type": "execute_result"
    }
   ],
   "source": [
    "cfg=wp.ReadConfig('drivef.cfg')\n",
    "cfg['FILES'].get('WOS.xlsx')"
   ]
  },
  {
   "cell_type": "markdown",
   "metadata": {},
   "source": [
    "## Full example"
   ]
  },
  {
   "cell_type": "code",
   "execution_count": null,
   "metadata": {},
   "outputs": [],
   "source": []
  }
 ],
 "metadata": {
  "kernelspec": {
   "display_name": "Python 3",
   "language": "python",
   "name": "python3"
  },
  "language_info": {
   "codemirror_mode": {
    "name": "ipython",
    "version": 3
   },
   "file_extension": ".py",
   "mimetype": "text/x-python",
   "name": "python",
   "nbconvert_exporter": "python",
   "pygments_lexer": "ipython3",
   "version": "3.4.2"
  }
 },
 "nbformat": 4,
 "nbformat_minor": 2
}
