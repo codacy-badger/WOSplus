{
 "cells": [
  {
   "cell_type": "markdown",
   "metadata": {},
   "source": [
    "# WOSPlus\n",
    "Manage Web of Science txt files and merge with other bibliographic datasets."
   ]
  },
  {
   "cell_type": "code",
   "execution_count": 1,
   "metadata": {},
   "outputs": [],
   "source": [
    "import wosplus as wp"
   ]
  },
  {
   "cell_type": "markdown",
   "metadata": {},
   "source": [
    "## Sample files"
   ]
  },
  {
   "cell_type": "markdown",
   "metadata": {},
   "source": [
    "WOSPlus comes with the identification, `id`, of public Google Drive Excel files:"
   ]
  },
  {
   "cell_type": "code",
   "execution_count": 2,
   "metadata": {},
   "outputs": [
    {
     "data": {
      "text/plain": [
       "'0BxoOXsn2EUNIMldPUFlwNkdLOTQ'"
      ]
     },
     "execution_count": 2,
     "metadata": {},
     "output_type": "execute_result"
    }
   ],
   "source": [
    "ID=wp.cfg['FILES'].get('Sample_WOS.xlsx')\n",
    "ID"
   ]
  },
  {
   "cell_type": "markdown",
   "metadata": {},
   "source": [
    "The Excel file has the link: [https://docs.google.com/uc?export=download&id=`ID`](https://docs.google.com/uc?export=download&id=0BxoOXsn2EUNIMldPUFlwNkdLOTQ)"
   ]
  },
  {
   "cell_type": "markdown",
   "metadata": {},
   "source": [
    "We can define your own labeled IDs, either through the default 'drive.cfg' file before the import of the module,\n",
    "or by using your own configuration file after the import:"
   ]
  },
  {
   "cell_type": "code",
   "execution_count": 3,
   "metadata": {},
   "outputs": [
    {
     "name": "stdout",
     "output_type": "stream",
     "text": [
      "Overwriting drive.cfg\n"
     ]
    }
   ],
   "source": [
    "%%writefile drive.cfg\n",
    "[FILES]\n",
    "Sample_WOS.xlsx                             = 0BxoOXsn2EUNIMldPUFlwNkdLOTQ\n",
    "Sample_WOS.txt                              = 12CtQ_SI2OHrvj_etKpqriGsGoVvv9zkL"
   ]
  },
  {
   "cell_type": "code",
   "execution_count": 4,
   "metadata": {},
   "outputs": [
    {
     "data": {
      "text/plain": [
       "'0BxoOXsn2EUNIMldPUFlwNkdLOTQ'"
      ]
     },
     "execution_count": 4,
     "metadata": {},
     "output_type": "execute_result"
    }
   ],
   "source": [
    "cfg=wp.ReadConfig('drive.cfg')\n",
    "cfg['FILES'].get('Sample_WOS.xlsx')"
   ]
  },
  {
   "cell_type": "markdown",
   "metadata": {},
   "source": [
    "Loading _public_ Excel file from Google Drive"
   ]
  },
  {
   "cell_type": "code",
   "execution_count": 5,
   "metadata": {},
   "outputs": [
    {
     "data": {
      "text/html": [
       "<div>\n",
       "<style scoped>\n",
       "    .dataframe tbody tr th:only-of-type {\n",
       "        vertical-align: middle;\n",
       "    }\n",
       "\n",
       "    .dataframe tbody tr th {\n",
       "        vertical-align: top;\n",
       "    }\n",
       "\n",
       "    .dataframe thead th {\n",
       "        text-align: right;\n",
       "    }\n",
       "</style>\n",
       "<table border=\"1\" class=\"dataframe\">\n",
       "  <thead>\n",
       "    <tr style=\"text-align: right;\">\n",
       "      <th></th>\n",
       "      <th>AB</th>\n",
       "      <th>AU</th>\n",
       "      <th>BP</th>\n",
       "      <th>C1</th>\n",
       "      <th>C2</th>\n",
       "      <th>CR</th>\n",
       "      <th>DE</th>\n",
       "      <th>DT</th>\n",
       "      <th>EC</th>\n",
       "      <th>EP</th>\n",
       "      <th>...</th>\n",
       "      <th>Z9</th>\n",
       "      <th>DI</th>\n",
       "      <th>X1</th>\n",
       "      <th>PA</th>\n",
       "      <th>PI</th>\n",
       "      <th>Y4</th>\n",
       "      <th>Y5</th>\n",
       "      <th>OI</th>\n",
       "      <th>RI</th>\n",
       "      <th>Tipo</th>\n",
       "    </tr>\n",
       "  </thead>\n",
       "  <tbody>\n",
       "    <tr>\n",
       "      <th>0</th>\n",
       "      <td>Background: Hypercalcemia during pregnancy is ...</td>\n",
       "      <td>Bedoya C, Elizabeth\\nMazo C, Natalia María\\nRe...</td>\n",
       "      <td>44\\n</td>\n",
       "      <td>[Bedoya C, Elizabeth] Corporación IBS Comfamil...</td>\n",
       "      <td>SciELO Chile\\n</td>\n",
       "      <td>Abraham P, 2002, POSTGRAD MED J, V78, P752, DO...</td>\n",
       "      <td>Hypercalcemia; pregnancy; nephrocalcinosis; ca...</td>\n",
       "      <td>case-report\\t\\n</td>\n",
       "      <td>Obstetrics &amp; Gynecology\\n</td>\n",
       "      <td>47\\n</td>\n",
       "      <td>...</td>\n",
       "      <td>0</td>\n",
       "      <td></td>\n",
       "      <td></td>\n",
       "      <td></td>\n",
       "      <td></td>\n",
       "      <td></td>\n",
       "      <td></td>\n",
       "      <td></td>\n",
       "      <td></td>\n",
       "      <td>WOS</td>\n",
       "    </tr>\n",
       "    <tr>\n",
       "      <th>1</th>\n",
       "      <td>The aim of this work was to characterize 111 n...</td>\n",
       "      <td>Cañas-Gutiérrez, Gloria Patricia\\nGalindo-Lópe...</td>\n",
       "      <td>129\\n</td>\n",
       "      <td>[Cañas-Gutiérrez, Gloria Patricia] Corporación...</td>\n",
       "      <td>SciELO Costa Rica\\n</td>\n",
       "      <td>Ashworth VETM, 2004, SCI HORTIC-AMSTERDAM, V10...</td>\n",
       "      <td>population genetics; molecular identification;...</td>\n",
       "      <td>research-article\\t\\n</td>\n",
       "      <td>Agricultural Economics &amp; Policy; Agriculture, ...</td>\n",
       "      <td>143\\n</td>\n",
       "      <td>...</td>\n",
       "      <td>2</td>\n",
       "      <td></td>\n",
       "      <td>Genetic diversity of avocado (Persea americana...</td>\n",
       "      <td>San Pedro\\n</td>\n",
       "      <td>San Pedro\\n</td>\n",
       "      <td></td>\n",
       "      <td></td>\n",
       "      <td></td>\n",
       "      <td></td>\n",
       "      <td>WOS</td>\n",
       "    </tr>\n",
       "  </tbody>\n",
       "</table>\n",
       "<p>2 rows × 38 columns</p>\n",
       "</div>"
      ],
      "text/plain": [
       "                                                  AB  \\\n",
       "0  Background: Hypercalcemia during pregnancy is ...   \n",
       "1  The aim of this work was to characterize 111 n...   \n",
       "\n",
       "                                                  AU     BP  \\\n",
       "0  Bedoya C, Elizabeth\\nMazo C, Natalia María\\nRe...   44\\n   \n",
       "1  Cañas-Gutiérrez, Gloria Patricia\\nGalindo-Lópe...  129\\n   \n",
       "\n",
       "                                                  C1                   C2  \\\n",
       "0  [Bedoya C, Elizabeth] Corporación IBS Comfamil...       SciELO Chile\\n   \n",
       "1  [Cañas-Gutiérrez, Gloria Patricia] Corporación...  SciELO Costa Rica\\n   \n",
       "\n",
       "                                                  CR  \\\n",
       "0  Abraham P, 2002, POSTGRAD MED J, V78, P752, DO...   \n",
       "1  Ashworth VETM, 2004, SCI HORTIC-AMSTERDAM, V10...   \n",
       "\n",
       "                                                  DE                    DT  \\\n",
       "0  Hypercalcemia; pregnancy; nephrocalcinosis; ca...       case-report\\t\\n   \n",
       "1  population genetics; molecular identification;...  research-article\\t\\n   \n",
       "\n",
       "                                                  EC     EP ...  Z9 DI  \\\n",
       "0                          Obstetrics & Gynecology\\n   47\\n ...   0      \n",
       "1  Agricultural Economics & Policy; Agriculture, ...  143\\n ...   2      \n",
       "\n",
       "                                                  X1           PA  \\\n",
       "0                                                                   \n",
       "1  Genetic diversity of avocado (Persea americana...  San Pedro\\n   \n",
       "\n",
       "            PI Y4  Y5 OI RI Tipo  \n",
       "0                            WOS  \n",
       "1  San Pedro\\n               WOS  \n",
       "\n",
       "[2 rows x 38 columns]"
      ]
     },
     "execution_count": 5,
     "metadata": {},
     "output_type": "execute_result"
    }
   ],
   "source": [
    "WOS=wp.wosplus('drive.cfg')\n",
    "WOS.load_biblio('Sample_WOS.xlsx')\n",
    "WOS.WOS[:2]"
   ]
  },
  {
   "cell_type": "markdown",
   "metadata": {},
   "source": [
    "## Full example\n",
    "Below we develop one example of loading a fictitious raw WOS file in txt format, as the one downloaded from WOS.\n",
    "\n",
    "We first write the file contents into a local file `WOS.txt`"
   ]
  },
  {
   "cell_type": "code",
   "execution_count": 14,
   "metadata": {},
   "outputs": [
    {
     "name": "stdout",
     "output_type": "stream",
     "text": [
      "Overwriting WOS.txt\n"
     ]
    }
   ],
   "source": [
    "%%writefile WOS.txt\n",
    "FN Clarivate Analytics Web of Science\n",
    "VR 1.0\n",
    "PT J\n",
    "AU Reig, M\n",
    "AF Reig, M.\n",
    "TI Bound-state dark matter and Dirac neutrino masses\n",
    "SO PHYSICAL REVIEW D\n",
    "LA English\n",
    "DT Article\n",
    "AB We propose a simple theory for the idea that cosmological dark matter\n",
    "C1 [Reig, M.] Univ Valencia, Valencia, Spain.\n",
    "RP Reig, M (reprint author), Univ Valencia, Valencia, Spain.\n",
    "EM mario.reig@ific.uv.es; \n",
    "FU Spanish Grants [FPA2017-85216-P, SEV-2014-0398]\n",
    "FX We thank Martin Hirsch.\n",
    "CR Ade PAR, 2016, ASTRON ASTROPHYS, V594, DOI 10.1051/0004-6361/201525830\n",
    "   Akerib D. S., ARXIV180206039\n",
    "NR 29\n",
    "TC 1\n",
    "Z9 1\n",
    "U1 2\n",
    "U2 2\n",
    "PU AMER PHYSICAL SOC\n",
    "PI COLLEGE PK\n",
    "PA ONE PHYSICS ELLIPSE, COLLEGE PK, MD 20740-3844 USA\n",
    "SN 2470-0010\n",
    "EI 2470-0029\n",
    "J9 PHYS REV D\n",
    "JI Phys. Rev. D\n",
    "PD JUN 19\n",
    "PY 2018\n",
    "VL 97\n",
    "IS 11\n",
    "AR 115032\n",
    "DI 10.1103/PhysRevD.97.115032\n",
    "PG 5\n",
    "WC Astronomy & Astrophysics; Physics, Particles & Fields\n",
    "SC Astronomy & Astrophysics; Physics\n",
    "GA GJ7EM\n",
    "UT WOS:000435548100003\n",
    "OA gold_or_bronze\n",
    "DA 2018-09-18\n",
    "ER\n",
    "\n",
    "EF"
   ]
  },
  {
   "cell_type": "code",
   "execution_count": 6,
   "metadata": {},
   "outputs": [],
   "source": [
    "WOS=wp.wosplus()"
   ]
  },
  {
   "cell_type": "code",
   "execution_count": 9,
   "metadata": {},
   "outputs": [],
   "source": [
    "WOS.load_biblio('WOS.txt')"
   ]
  },
  {
   "cell_type": "code",
   "execution_count": 10,
   "metadata": {
    "scrolled": true
   },
   "outputs": [
    {
     "data": {
      "text/html": [
       "<div>\n",
       "<style scoped>\n",
       "    .dataframe tbody tr th:only-of-type {\n",
       "        vertical-align: middle;\n",
       "    }\n",
       "\n",
       "    .dataframe tbody tr th {\n",
       "        vertical-align: top;\n",
       "    }\n",
       "\n",
       "    .dataframe thead th {\n",
       "        text-align: right;\n",
       "    }\n",
       "</style>\n",
       "<table border=\"1\" class=\"dataframe\">\n",
       "  <thead>\n",
       "    <tr style=\"text-align: right;\">\n",
       "      <th></th>\n",
       "      <th>AB</th>\n",
       "      <th>AF</th>\n",
       "      <th>AR</th>\n",
       "      <th>AU</th>\n",
       "      <th>C1</th>\n",
       "      <th>CR</th>\n",
       "      <th>DA</th>\n",
       "      <th>DI</th>\n",
       "      <th>DT</th>\n",
       "      <th>EI</th>\n",
       "      <th>...</th>\n",
       "      <th>SO</th>\n",
       "      <th>TC</th>\n",
       "      <th>TI</th>\n",
       "      <th>U1</th>\n",
       "      <th>U2</th>\n",
       "      <th>UT</th>\n",
       "      <th>VL</th>\n",
       "      <th>WC</th>\n",
       "      <th>Z9</th>\n",
       "      <th>Tipo</th>\n",
       "    </tr>\n",
       "  </thead>\n",
       "  <tbody>\n",
       "    <tr>\n",
       "      <th>0</th>\n",
       "      <td>We propose a simple theory for the idea that c...</td>\n",
       "      <td>Reig, M.\\n</td>\n",
       "      <td>115032\\n</td>\n",
       "      <td>Reig, M\\n</td>\n",
       "      <td>[Reig, M.] Univ Valencia, Valencia, Spain.\\n</td>\n",
       "      <td>Ade PAR, 2016, ASTRON ASTROPHYS, V594, DOI 10....</td>\n",
       "      <td>2018-09-18\\n</td>\n",
       "      <td>10.1103/PhysRevD.97.115032</td>\n",
       "      <td>Article\\n</td>\n",
       "      <td>2470-0029\\n</td>\n",
       "      <td>...</td>\n",
       "      <td>PHYSICAL REVIEW D</td>\n",
       "      <td>1\\n</td>\n",
       "      <td>Bound-state dark matter and Dirac neutrino masses</td>\n",
       "      <td>2\\n</td>\n",
       "      <td>2\\n</td>\n",
       "      <td>WOS:000435548100003\\n</td>\n",
       "      <td>97\\n</td>\n",
       "      <td>Astronomy &amp; Astrophysics; Physics, Particles &amp;...</td>\n",
       "      <td>1\\n</td>\n",
       "      <td>WOS</td>\n",
       "    </tr>\n",
       "  </tbody>\n",
       "</table>\n",
       "<p>1 rows × 40 columns</p>\n",
       "</div>"
      ],
      "text/plain": [
       "                                                  AB          AF        AR  \\\n",
       "0  We propose a simple theory for the idea that c...  Reig, M.\\n  115032\\n   \n",
       "\n",
       "          AU                                            C1  \\\n",
       "0  Reig, M\\n  [Reig, M.] Univ Valencia, Valencia, Spain.\\n   \n",
       "\n",
       "                                                  CR            DA  \\\n",
       "0  Ade PAR, 2016, ASTRON ASTROPHYS, V594, DOI 10....  2018-09-18\\n   \n",
       "\n",
       "                           DI         DT           EI ...                  SO  \\\n",
       "0  10.1103/PhysRevD.97.115032  Article\\n  2470-0029\\n ...   PHYSICAL REVIEW D   \n",
       "\n",
       "    TC                                                 TI   U1   U2  \\\n",
       "0  1\\n  Bound-state dark matter and Dirac neutrino masses  2\\n  2\\n   \n",
       "\n",
       "                      UT    VL  \\\n",
       "0  WOS:000435548100003\\n  97\\n   \n",
       "\n",
       "                                                  WC   Z9 Tipo  \n",
       "0  Astronomy & Astrophysics; Physics, Particles &...  1\\n  WOS  \n",
       "\n",
       "[1 rows x 40 columns]"
      ]
     },
     "execution_count": 10,
     "metadata": {},
     "output_type": "execute_result"
    }
   ],
   "source": [
    "WOS.WOS"
   ]
  }
 ],
 "metadata": {
  "kernelspec": {
   "display_name": "Python 3",
   "language": "python",
   "name": "python3"
  },
  "language_info": {
   "codemirror_mode": {
    "name": "ipython",
    "version": 3
   },
   "file_extension": ".py",
   "mimetype": "text/x-python",
   "name": "python",
   "nbconvert_exporter": "python",
   "pygments_lexer": "ipython3",
   "version": "3.4.2"
  }
 },
 "nbformat": 4,
 "nbformat_minor": 2
}
