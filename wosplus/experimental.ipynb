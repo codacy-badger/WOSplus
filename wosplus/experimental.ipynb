{
  "nbformat": 4,
  "nbformat_minor": 0,
  "metadata": {
    "colab": {
      "name": "test_sample.ipynb",
      "version": "0.3.2",
      "provenance": [],
      "include_colab_link": true
    },
    "kernelspec": {
      "display_name": "Python 3",
      "language": "python",
      "name": "python3"
    }
  },
  "cells": [
    {
      "cell_type": "markdown",
      "metadata": {
        "id": "view-in-github",
        "colab_type": "text"
      },
      "source": [
        "[View in Colaboratory](https://colab.research.google.com/github/restrepo/WOSplus/blob/master/wosplus/experimental.ipynb)"
      ]
    },
    {
      "metadata": {
        "colab_type": "code",
        "id": "8h8QFxvObxdb",
        "colab": {}
      },
      "cell_type": "code",
      "source": [
        "%%bash\n",
        "# Check if colaboratory was launched and install missing requirements\n",
        "if [ \"$(pwd)\" == /content ];then\n",
        "    pip install openpyxl xlrd unidecode python-levenshtein requests_testadapter > /dev/null\n",
        "    git clone https://github.com/restrepo/WOSplus.git > /dev/null\n",
        "    #mv WOSplus/wosplus/* .\n",
        "fi"
      ],
      "execution_count": 0,
      "outputs": []
    },
    {
      "metadata": {
        "colab_type": "code",
        "id": "TF3UTQqjaLxa",
        "colab": {}
      },
      "cell_type": "code",
      "source": [
        "import os\n",
        "if os.getcwd()== '/content':\n",
        "    os.chdir('WOSplus')"
      ],
      "execution_count": 0,
      "outputs": []
    },
    {
      "metadata": {
        "colab_type": "code",
        "id": "uwbkDKBbbwvQ",
        "colab": {}
      },
      "cell_type": "code",
      "source": [
        "import wosplus"
      ],
      "execution_count": 0,
      "outputs": []
    },
    {
      "metadata": {
        "colab_type": "code",
        "id": "s2kdcEq8R2Aq",
        "outputId": "fac30ce1-7798-428e-d524-ce3f6cb4b0e4",
        "colab": {
          "base_uri": "https://localhost:8080/",
          "height": 34
        }
      },
      "cell_type": "code",
      "source": [
        "%%writefile drive.cfg\n",
        "[FILES]\n",
        "Sample_WOS.xlsx = 1--LJZ4mYyQcaJ93xBdbnYj-ZzdjO2Wq2\n",
        "Sample_SCI.xlsx = 1-3a-hguQTk5ko8JRLCx--EKaslxGVscf\n",
        "Sample_SCP.xlsx = 1-IAWlMdp2U-9L2jvZUio04ub1Ym3PX-H"
      ],
      "execution_count": 0,
      "outputs": [
        {
          "output_type": "stream",
          "text": [
            "Writing drive.cfg\n"
          ],
          "name": "stdout"
        }
      ]
    },
    {
      "metadata": {
        "colab_type": "code",
        "id": "BUzIDf92bwvU",
        "outputId": "58d95832-5a8e-44b5-850a-274e57723961",
        "colab": {
          "base_uri": "https://localhost:8080/",
          "height": 136
        }
      },
      "cell_type": "code",
      "source": [
        "cib=wosplus.wosplus('drive.cfg')\n",
        "\n",
        "cib.load_biblio('Sample_WOS.xlsx')\n",
        "cib.load_biblio('Sample_SCI.xlsx',prefix='SCI')\n",
        "cib.load_biblio('Sample_SCP.xlsx',prefix='SCP')\n",
        "\n",
        "print('before merge: {}'.format( cib.WOS.shape[0]+cib.SCI.shape[0]+cib.SCP.shape[0] )  )\n",
        "\n",
        "cib.merge(left='WOS',right='SCI')\n",
        "\n",
        "if True:\n",
        "    print('intial: {}'.format( cib.WOS.shape[0]+cib.SCI.shape[0]) )\n",
        "    print('final : {}'.format(  cib.WOS_SCI.shape) )\n",
        "\n",
        "cib.merge(left='WOS_SCI',right='SCP')\n",
        "\n",
        "if True:\n",
        "    print('intial: {}'.format( cib.WOS_SCI.shape[0]+cib.SCP.shape[0]) )\n",
        "    print('final : {}'.format(  cib.WOS_SCI_SCP.shape) )"
      ],
      "execution_count": 0,
      "outputs": [
        {
          "output_type": "stream",
          "text": [
            "/home/restrepo/tmp/testing/WOSplus/wosplus/_wos_scp.py:54: FutureWarning: Using 'rename_axis' to alter labels is deprecated. Use '.rename' instead\n",
            "  return df.rename_axis( dict( (key,prefix+'_'+key) for key in df.columns.values) , axis=1)\n"
          ],
          "name": "stderr"
        },
        {
          "output_type": "stream",
          "text": [
            "before merge: 48\n",
            ".intial: 38\n",
            "final : (28, 96)\n",
            "..intial: 38\n",
            "final : (30, 142)\n"
          ],
          "name": "stdout"
        }
      ]
    },
    {
      "metadata": {
        "colab_type": "text",
        "id": "tXQxDy_ts_th"
      },
      "cell_type": "markdown",
      "source": [
        "before merge: 48\n",
        ".intial: 38\n",
        "final : (28, 96)\n",
        "..intial: 38\n",
        "final : (30, 142)"
      ]
    },
    {
      "metadata": {
        "colab_type": "text",
        "id": "lyYwEqdojkH2"
      },
      "cell_type": "markdown",
      "source": [
        "## Unitary tests\n",
        "Copy to test.py:\n",
        "```bash\n",
        "cd tests\n",
        "python test.py\n",
        "```"
      ]
    },
    {
      "metadata": {
        "colab_type": "code",
        "id": "ugh0hx54ghMH",
        "colab": {}
      },
      "cell_type": "code",
      "source": [
        "import unittest\n",
        "self = unittest.TestCase('__init__')\n",
        "self.assertTrue(True)\n",
        "\n",
        "self.assertTrue( cib.WOS.shape[0]+cib.SCI.shape[0]+cib.SCP.shape[0] == 48 )\n",
        "                  \n",
        "self.assertTrue ( cib.WOS.shape[0]+cib.SCI.shape[0] == 38  )\n",
        "self.assertTrue (  cib.WOS_SCI.shape[0] == 28 ) \n",
        "        \n",
        "         \n",
        "self.assertTrue( cib.WOS_SCI.shape[0]+cib.SCP.shape[0] == 38  )\n",
        "self.assertTrue( cib.WOS_SCI_SCP.shape[0] == 30  )\n",
        "\n",
        "self.assertTrue(list( cib.WOS_SCI_SCP.Tipo.values )==['WOS','WOS',\n",
        "           'WOS','WOS','WOS','WOS','WOS_SCI','SCI','WOS','WOS','WOS','WOS',\n",
        "           'WOS','WOS','WOS','WOS','WOS','WOS_SCI','WOS_SCI','WOS_SCI',\n",
        "           'WOS_SCP','WOS_SCI_SCP','WOS_SCI_SCP','WOS_SCI_SCP','WOS_SCP',\n",
        "           'WOS_SCI_SCP','WOS_SCI_SCP','WOS_SCI_SCP','SCP','SCP'])"
      ],
      "execution_count": 0,
      "outputs": []
    },
    {
      "metadata": {
        "colab_type": "code",
        "id": "7746G3jUa4dr",
        "outputId": "44e3cdc2-43de-4b41-f7cc-d3138521fb45",
        "colab": {
          "base_uri": "https://localhost:8080/",
          "height": 102
        }
      },
      "cell_type": "code",
      "source": [
        "%%bash\n",
        "cd tests\n",
        "python3 test.py"
      ],
      "execution_count": 0,
      "outputs": [
        {
          "output_type": "stream",
          "text": [
            "..."
          ],
          "name": "stdout"
        },
        {
          "output_type": "stream",
          "text": [
            ".\n",
            "----------------------------------------------------------------------\n",
            "Ran 1 test in 34.223s\n",
            "\n",
            "OK\n"
          ],
          "name": "stderr"
        }
      ]
    },
    {
      "metadata": {
        "colab_type": "text",
        "id": "WWNF7iZkPbr9"
      },
      "cell_type": "markdown",
      "source": [
        "### In progress... Other database"
      ]
    },
    {
      "metadata": {
        "colab_type": "code",
        "id": "mwVr3x5cbwvY",
        "outputId": "63879690-c517-462b-9ef6-1f43ab877d18",
        "colab": {
          "base_uri": "https://localhost:8080/",
          "height": 51
        }
      },
      "cell_type": "code",
      "source": [
        "cib.load_biblio('Sample_SCP.xlsx',prefix='NEW')"
      ],
      "execution_count": 0,
      "outputs": [
        {
          "output_type": "stream",
          "text": [
            "/content/_wos_scp.py:54: FutureWarning: Using 'rename_axis' to alter labels is deprecated. Use '.rename' instead\n",
            "  return df.rename_axis( dict( (key,prefix+'_'+key) for key in df.columns.values) , axis=1)\n"
          ],
          "name": "stderr"
        }
      ]
    },
    {
      "metadata": {
        "colab_type": "code",
        "id": "-PpQ4BfdPh_b",
        "colab": {}
      },
      "cell_type": "code",
      "source": [
        "cib.merge(left='WOS_SCI_SCP',right='NEW',right_DOI='NEW_DOI',\n",
        "            right_TI='NEW_Title',\n",
        "            right_extra_journal='NEW_Source title',\n",
        "            right_author='NEW_Authors',\n",
        "            right_year='NEW_Year')"
      ],
      "execution_count": 0,
      "outputs": []
    },
    {
      "metadata": {
        "colab_type": "code",
        "id": "6WWU3mIXPoaL",
        "outputId": "fbba0d3c-9c37-4833-e62b-a253ea3ffe2a",
        "colab": {
          "base_uri": "https://localhost:8080/",
          "height": 34
        }
      },
      "cell_type": "code",
      "source": [
        "cib.WOS_SCI_SCP_NEW.shape"
      ],
      "execution_count": 0,
      "outputs": [
        {
          "output_type": "execute_result",
          "data": {
            "text/plain": [
              "(30, 185)"
            ]
          },
          "metadata": {
            "tags": []
          },
          "execution_count": 7
        }
      ]
    },
    {
      "metadata": {
        "colab_type": "code",
        "id": "4-C0_KEHPpv3",
        "colab": {}
      },
      "cell_type": "code",
      "source": [
        ""
      ],
      "execution_count": 0,
      "outputs": []
    }
  ]
}